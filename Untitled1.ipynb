{
 "cells": [
  {
   "cell_type": "code",
   "execution_count": 233,
   "id": "0e591dd3-4271-4c3b-977f-948fe2224c56",
   "metadata": {},
   "outputs": [],
   "source": [
    "import requests\n",
    "import json\n",
    "import pandas as pd\n",
    "from jsonpath_ng import jsonpath,parse\n",
    "import re\n",
    "import html2text\n",
    "\n",
    "pd.set_option('display.max_rows', 500)\n",
    "pd.set_option('display.max_columns', 500)\n",
    "pd.set_option('display.width', 1000)"
   ]
  },
  {
   "cell_type": "code",
   "execution_count": 305,
   "id": "9254d2a1-6506-4ac9-9431-2b2b365b96e5",
   "metadata": {},
   "outputs": [
    {
     "name": "stderr",
     "output_type": "stream",
     "text": [
      "/home/tete/.pyenv/versions/3.11.9/lib/python3.11/site-packages/urllib3/connectionpool.py:1103: InsecureRequestWarning: Unverified HTTPS request is being made to host 'krisdika.ocs.go.th'. Adding certificate verification is strongly advised. See: https://urllib3.readthedocs.io/en/latest/advanced-usage.html#tls-warnings\n",
      "  warnings.warn(\n"
     ]
    }
   ],
   "source": [
    "url = \"https://krisdika.ocs.go.th/th/web/guest/law?p_p_id=LawPortlet_INSTANCE_aAN7C2U5hENi&p_p_lifecycle=2&p_p_state=normal&p_p_mode=view&p_p_cacheability=cacheLevelPage&p_p_lifecycle=1&_LawPortlet_INSTANCE_aAN7C2U5hENi_character=อ&_LawPortlet_INSTANCE_aAN7C2U5hENi_javax.portlet.action=selectCharacterMenu&_LawPortlet_INSTANCE_aAN7C2U5hENi_groupOfAct=byCharacter&_LawPortlet_INSTANCE_aAN7C2U5hENi_lawTypeId=2\"\n",
    "response = requests.request(\"GET\",url, verify=False)\n",
    "file_store = r\"\\\\wsl.localhost\\Ubuntu-20.04\\home\\tete\\lawpdf_scraping3\\files\"\n",
    "\n",
    "h = html2text.HTML2Text()\n",
    "h.ignore_links = True"
   ]
  },
  {
   "cell_type": "code",
   "execution_count": 10,
   "id": "86df24aa-ae8e-4a8d-a76f-f71f5c60c309",
   "metadata": {},
   "outputs": [],
   "source": [
    "json_data = json.loads(response.text)"
   ]
  },
  {
   "cell_type": "code",
   "execution_count": 11,
   "id": "c7d1eaa8-89bc-49fc-8245-852f0b494c47",
   "metadata": {},
   "outputs": [],
   "source": [
    "sel_json = json_data['rows']"
   ]
  },
  {
   "cell_type": "code",
   "execution_count": 296,
   "id": "8611a3fc-352a-4f27-9514-4a5575f3059c",
   "metadata": {},
   "outputs": [],
   "source": [
    "law_list = []\n",
    "ann_list = []\n",
    "for row in sel_json[:6]:\n",
    "    ann_d = {}\n",
    "    if 'rows' in row.keys():\n",
    "        for law_data in row['rows']:\n",
    "            #filter for law.\n",
    "            if 'rows' not in law_data.keys():\n",
    "                law_d = {}\n",
    "                law_d['main_id'] = row['id']\n",
    "                law_d['name'] = row['data'][0]['value']\n",
    "                law_d['law_id'] = law_data['id']\n",
    "                law_d['law_nm'] =h.handle(law_data['data'][0]['value'])\n",
    "                law_d['law_link'] = law_data['data'][1]\n",
    "                law_list.append(law_d)\n",
    "            #filter for announcement.\n",
    "            else:\n",
    "                \n",
    "                for ann_data in law_data['rows']:\n",
    "                    ann_d = {}\n",
    "                    ann_d['main_id'] = row['id']\n",
    "                    ann_d['name'] = row['data'][0]['value']\n",
    "                    ann_d['announce_id'] = law_data['id']\n",
    "                    ann_d['announce_type_nm'] = h.handle(law_data['data'][0]['value'])\n",
    "                    ann_d['announce_sub_id'] = ann_data['id']\n",
    "                    ann_d['announce_name'] = h.handle(ann_data['data'][0]['value'])\n",
    "                    ann_d['announce_link'] = ann_data['data'][1]\n",
    "                    ann_list.append(ann_d)\n",
    "\n",
    "law_df = pd.DataFrame(law_list)\n",
    "ann_df = pd.DataFrame(ann_list)                \n",
    "            "
   ]
  },
  {
   "cell_type": "code",
   "execution_count": 297,
   "id": "56a5dd73-7ae3-4798-9c7f-06d690f5d82e",
   "metadata": {},
   "outputs": [
    {
     "data": {
      "text/html": [
       "<div>\n",
       "<style scoped>\n",
       "    .dataframe tbody tr th:only-of-type {\n",
       "        vertical-align: middle;\n",
       "    }\n",
       "\n",
       "    .dataframe tbody tr th {\n",
       "        vertical-align: top;\n",
       "    }\n",
       "\n",
       "    .dataframe thead th {\n",
       "        text-align: right;\n",
       "    }\n",
       "</style>\n",
       "<table border=\"1\" class=\"dataframe\">\n",
       "  <thead>\n",
       "    <tr style=\"text-align: right;\">\n",
       "      <th></th>\n",
       "      <th>main_id</th>\n",
       "      <th>name</th>\n",
       "      <th>law_id</th>\n",
       "      <th>law_nm</th>\n",
       "      <th>law_link</th>\n",
       "    </tr>\n",
       "  </thead>\n",
       "  <tbody>\n",
       "    <tr>\n",
       "      <th>0</th>\n",
       "      <td>อ28</td>\n",
       "      <td>พระราชกาหนดโอนอัตรากาลังพลและงบประมาณบางส่วนขอ...</td>\n",
       "      <td>อ28-20-2562-A0001</td>\n",
       "      <td>พระราชกำหนดโอนอัตรากำลังพลและงบประมาณบางส่วนขอ...</td>\n",
       "      <td>&lt;a class='lawlinkfile' target='_blank' href='h...</td>\n",
       "    </tr>\n",
       "    <tr>\n",
       "      <th>1</th>\n",
       "      <td>อ19</td>\n",
       "      <td>พระราชกำหนดโอนสินทรัพย์บางส่วนในบัญชีสำรองพิเศ...</td>\n",
       "      <td>อ19-20-2545-A0001</td>\n",
       "      <td>พระราชกำหนดโอนสินทรัพย์บางส่วนในบัญชีสำรองพิเศ...</td>\n",
       "      <td>&lt;a class='lawlinkfile' target='_blank' href='h...</td>\n",
       "    </tr>\n",
       "    <tr>\n",
       "      <th>2</th>\n",
       "      <td>อ18</td>\n",
       "      <td>พระราชบัญญัติองค์กรจัดสรรคลื่นความถี่และกำกับก...</td>\n",
       "      <td>อ18-20-9998-UPDATE</td>\n",
       "      <td>พระราชบัญญัติองค์กรจัดสรรคลื่นความถี่และกำกับก...</td>\n",
       "      <td>&lt;a class='lawlinkfile' target='_blank' href='h...</td>\n",
       "    </tr>\n",
       "    <tr>\n",
       "      <th>3</th>\n",
       "      <td>อ18</td>\n",
       "      <td>พระราชบัญญัติองค์กรจัดสรรคลื่นความถี่และกำกับก...</td>\n",
       "      <td>อ18-20-2564-A0001</td>\n",
       "      <td>พระราชบัญญัติองค์กรจัดสรรคลื่นความถี่และกำกับก...</td>\n",
       "      <td>&lt;a class='lawlinkfile' target='_blank' href='h...</td>\n",
       "    </tr>\n",
       "    <tr>\n",
       "      <th>4</th>\n",
       "      <td>อ18</td>\n",
       "      <td>พระราชบัญญัติองค์กรจัดสรรคลื่นความถี่และกำกับก...</td>\n",
       "      <td>อ18-20-2562-A0001</td>\n",
       "      <td>พระราชบัญญัติองค์กรจัดสรรคลื่นความถี่และกำกับก...</td>\n",
       "      <td>&lt;a class='lawlinkfile' target='_blank' href='h...</td>\n",
       "    </tr>\n",
       "    <tr>\n",
       "      <th>5</th>\n",
       "      <td>อ18</td>\n",
       "      <td>พระราชบัญญัติองค์กรจัดสรรคลื่นความถี่และกำกับก...</td>\n",
       "      <td>อ18-20-2560-A0002</td>\n",
       "      <td>พระราชบัญญัติองค์กรจัดสรรคลื่นความถี่และกำกับก...</td>\n",
       "      <td>&lt;a class='lawlinkfile' target='_blank' href='h...</td>\n",
       "    </tr>\n",
       "    <tr>\n",
       "      <th>6</th>\n",
       "      <td>อ18</td>\n",
       "      <td>พระราชบัญญัติองค์กรจัดสรรคลื่นความถี่และกำกับก...</td>\n",
       "      <td>อ18-20-2560-A0001</td>\n",
       "      <td>พระราชบัญญัติองค์กรจัดสรรคลื่นความถี่และกำกับก...</td>\n",
       "      <td>&lt;a class='lawlinkfile' target='_blank' href='h...</td>\n",
       "    </tr>\n",
       "    <tr>\n",
       "      <th>7</th>\n",
       "      <td>อ18</td>\n",
       "      <td>พระราชบัญญัติองค์กรจัดสรรคลื่นความถี่และกำกับก...</td>\n",
       "      <td>อ18-20-2559-A0002</td>\n",
       "      <td>คำสั่งหัวหน้าคณะรักษาความสงบแห่งชาติ ที่ 76/25...</td>\n",
       "      <td>&lt;a class='lawlinkfile' target='_blank' href='h...</td>\n",
       "    </tr>\n",
       "    <tr>\n",
       "      <th>8</th>\n",
       "      <td>อ18</td>\n",
       "      <td>พระราชบัญญัติองค์กรจัดสรรคลื่นความถี่และกำกับก...</td>\n",
       "      <td>อ18-20-2559-A0001</td>\n",
       "      <td>คำสั่งหัวหน้าคณะรักษาความสงบแห่งชาติ ที่ 75/25...</td>\n",
       "      <td>&lt;a class='lawlinkfile' target='_blank' href='h...</td>\n",
       "    </tr>\n",
       "    <tr>\n",
       "      <th>9</th>\n",
       "      <td>อ18</td>\n",
       "      <td>พระราชบัญญัติองค์กรจัดสรรคลื่นความถี่และกำกับก...</td>\n",
       "      <td>อ18-20-2557-A0002</td>\n",
       "      <td>พระราชบัญญัติองค์กรจัดสรรคลื่นความถี่และกำกับก...</td>\n",
       "      <td>&lt;a class='lawlinkfile' target='_blank' href='h...</td>\n",
       "    </tr>\n",
       "    <tr>\n",
       "      <th>10</th>\n",
       "      <td>อ18</td>\n",
       "      <td>พระราชบัญญัติองค์กรจัดสรรคลื่นความถี่และกำกับก...</td>\n",
       "      <td>อ18-20-2557-A0001</td>\n",
       "      <td>ประกาศคณะรักษาความสงบแห่งชาติ ฉบับที่ 80/2557 ...</td>\n",
       "      <td>&lt;a class='lawlinkfile' target='_blank' href='h...</td>\n",
       "    </tr>\n",
       "    <tr>\n",
       "      <th>11</th>\n",
       "      <td>อ18</td>\n",
       "      <td>พระราชบัญญัติองค์กรจัดสรรคลื่นความถี่และกำกับก...</td>\n",
       "      <td>อ18-20-2553-A0001</td>\n",
       "      <td>พระราชบัญญัติองค์กรจัดสรรคลื่นความถี่และกำกับก...</td>\n",
       "      <td>&lt;a class='lawlinkfile' target='_blank' href='h...</td>\n",
       "    </tr>\n",
       "  </tbody>\n",
       "</table>\n",
       "</div>"
      ],
      "text/plain": [
       "   main_id                                               name              law_id                                             law_nm                                           law_link\n",
       "0      อ28  พระราชกาหนดโอนอัตรากาลังพลและงบประมาณบางส่วนขอ...   อ28-20-2562-A0001  พระราชกำหนดโอนอัตรากำลังพลและงบประมาณบางส่วนขอ...  <a class='lawlinkfile' target='_blank' href='h...\n",
       "1      อ19  พระราชกำหนดโอนสินทรัพย์บางส่วนในบัญชีสำรองพิเศ...   อ19-20-2545-A0001  พระราชกำหนดโอนสินทรัพย์บางส่วนในบัญชีสำรองพิเศ...  <a class='lawlinkfile' target='_blank' href='h...\n",
       "2      อ18  พระราชบัญญัติองค์กรจัดสรรคลื่นความถี่และกำกับก...  อ18-20-9998-UPDATE  พระราชบัญญัติองค์กรจัดสรรคลื่นความถี่และกำกับก...  <a class='lawlinkfile' target='_blank' href='h...\n",
       "3      อ18  พระราชบัญญัติองค์กรจัดสรรคลื่นความถี่และกำกับก...   อ18-20-2564-A0001  พระราชบัญญัติองค์กรจัดสรรคลื่นความถี่และกำกับก...  <a class='lawlinkfile' target='_blank' href='h...\n",
       "4      อ18  พระราชบัญญัติองค์กรจัดสรรคลื่นความถี่และกำกับก...   อ18-20-2562-A0001  พระราชบัญญัติองค์กรจัดสรรคลื่นความถี่และกำกับก...  <a class='lawlinkfile' target='_blank' href='h...\n",
       "5      อ18  พระราชบัญญัติองค์กรจัดสรรคลื่นความถี่และกำกับก...   อ18-20-2560-A0002  พระราชบัญญัติองค์กรจัดสรรคลื่นความถี่และกำกับก...  <a class='lawlinkfile' target='_blank' href='h...\n",
       "6      อ18  พระราชบัญญัติองค์กรจัดสรรคลื่นความถี่และกำกับก...   อ18-20-2560-A0001  พระราชบัญญัติองค์กรจัดสรรคลื่นความถี่และกำกับก...  <a class='lawlinkfile' target='_blank' href='h...\n",
       "7      อ18  พระราชบัญญัติองค์กรจัดสรรคลื่นความถี่และกำกับก...   อ18-20-2559-A0002  คำสั่งหัวหน้าคณะรักษาความสงบแห่งชาติ ที่ 76/25...  <a class='lawlinkfile' target='_blank' href='h...\n",
       "8      อ18  พระราชบัญญัติองค์กรจัดสรรคลื่นความถี่และกำกับก...   อ18-20-2559-A0001  คำสั่งหัวหน้าคณะรักษาความสงบแห่งชาติ ที่ 75/25...  <a class='lawlinkfile' target='_blank' href='h...\n",
       "9      อ18  พระราชบัญญัติองค์กรจัดสรรคลื่นความถี่และกำกับก...   อ18-20-2557-A0002  พระราชบัญญัติองค์กรจัดสรรคลื่นความถี่และกำกับก...  <a class='lawlinkfile' target='_blank' href='h...\n",
       "10     อ18  พระราชบัญญัติองค์กรจัดสรรคลื่นความถี่และกำกับก...   อ18-20-2557-A0001  ประกาศคณะรักษาความสงบแห่งชาติ ฉบับที่ 80/2557 ...  <a class='lawlinkfile' target='_blank' href='h...\n",
       "11     อ18  พระราชบัญญัติองค์กรจัดสรรคลื่นความถี่และกำกับก...   อ18-20-2553-A0001  พระราชบัญญัติองค์กรจัดสรรคลื่นความถี่และกำกับก...  <a class='lawlinkfile' target='_blank' href='h..."
      ]
     },
     "execution_count": 297,
     "metadata": {},
     "output_type": "execute_result"
    }
   ],
   "source": [
    "law_df"
   ]
  },
  {
   "cell_type": "code",
   "execution_count": 298,
   "id": "cbf80935-3f07-451d-950e-1defd738d26b",
   "metadata": {},
   "outputs": [
    {
     "data": {
      "text/plain": [
       "main_id     12\n",
       "name        12\n",
       "law_id      12\n",
       "law_nm      12\n",
       "law_link    12\n",
       "dtype: int64"
      ]
     },
     "execution_count": 298,
     "metadata": {},
     "output_type": "execute_result"
    }
   ],
   "source": [
    "law_df.count()"
   ]
  },
  {
   "cell_type": "markdown",
   "id": "ee9549af-f9b2-4ebd-83ce-ca846610c4e9",
   "metadata": {},
   "source": [
    "1. TH pdf\n",
    "2. HTML\n",
    "3. TIF\n",
    "4. ENG pdf\n",
    "5. Doc (Manually - Substring from URL & append ext=doc)\n",
    "6. Download - new col as path (download pdf,htm,doc)"
   ]
  },
  {
   "cell_type": "code",
   "execution_count": 247,
   "id": "6b55994a-9a10-4fca-b10c-6a6fcef6fc91",
   "metadata": {},
   "outputs": [
    {
     "data": {
      "text/plain": [
       "'https://krisdika.ocs.go.th/librarian/get?sysid=877294&ext=tif'"
      ]
     },
     "execution_count": 247,
     "metadata": {},
     "output_type": "execute_result"
    }
   ],
   "source": [
    "law_df['tif'].iloc[1]"
   ]
  },
  {
   "cell_type": "code",
   "execution_count": 276,
   "id": "67c5624f-347c-4346-9237-d6f9b6a79ef9",
   "metadata": {},
   "outputs": [],
   "source": [
    "\n",
    "#Apply Function for extract law_link column in law_df.\n",
    "def extract_links(html):\n",
    "    links = {}\n",
    "    pattern = r\"href='(https://krisdika\\.ocs\\.go\\.th/librarian/get\\?sysid=\\d+&ext=(\\w+))'\"\n",
    "    matches = re.findall(pattern, html)\n",
    "    \n",
    "    for url, ext in matches:\n",
    "        if ext == 'pdf':\n",
    "            if 'icon_en' in html and url == matches[-1][0]:\n",
    "                links['en_pdf'] = url\n",
    "            else:\n",
    "                links['pdf'] = url\n",
    "        elif ext == 'htm':\n",
    "            links['html'] = url\n",
    "        elif ext == 'tif':\n",
    "            links['tif'] = url\n",
    "    base_url = matches[0][0].rsplit('ext=', 1)[0]\n",
    "    links['doc'] = base_url + 'ext=doc'\n",
    "       \n",
    "    \n",
    "    return links\n",
    "\n",
    "\n",
    "\n"
   ]
  },
  {
   "cell_type": "code",
   "execution_count": 299,
   "id": "66e7cd12-8293-4f86-b9c1-c1f525f00d0a",
   "metadata": {},
   "outputs": [],
   "source": [
    "law_df =law_df.join(law_df['law_link'].apply(extract_links).apply(pd.Series))\n",
    "law_df['check_latest'] = law_df['law_nm'].apply(lambda nm : True if 'ฉบับ Update ล่าสุด' in nm else False)"
   ]
  },
  {
   "cell_type": "code",
   "execution_count": 300,
   "id": "e51a376f-01e7-4dfd-85fe-d23310ed98cd",
   "metadata": {},
   "outputs": [
    {
     "data": {
      "text/html": [
       "<div>\n",
       "<style scoped>\n",
       "    .dataframe tbody tr th:only-of-type {\n",
       "        vertical-align: middle;\n",
       "    }\n",
       "\n",
       "    .dataframe tbody tr th {\n",
       "        vertical-align: top;\n",
       "    }\n",
       "\n",
       "    .dataframe thead th {\n",
       "        text-align: right;\n",
       "    }\n",
       "</style>\n",
       "<table border=\"1\" class=\"dataframe\">\n",
       "  <thead>\n",
       "    <tr style=\"text-align: right;\">\n",
       "      <th></th>\n",
       "      <th>main_id</th>\n",
       "      <th>name</th>\n",
       "      <th>law_id</th>\n",
       "      <th>law_nm</th>\n",
       "      <th>law_link</th>\n",
       "      <th>pdf</th>\n",
       "      <th>tif</th>\n",
       "      <th>html</th>\n",
       "      <th>doc</th>\n",
       "      <th>en_pdf</th>\n",
       "      <th>check_latest</th>\n",
       "    </tr>\n",
       "  </thead>\n",
       "  <tbody>\n",
       "    <tr>\n",
       "      <th>2</th>\n",
       "      <td>อ18</td>\n",
       "      <td>พระราชบัญญัติองค์กรจัดสรรคลื่นความถี่และกำกับก...</td>\n",
       "      <td>อ18-20-9998-UPDATE</td>\n",
       "      <td>พระราชบัญญัติองค์กรจัดสรรคลื่นความถี่และกำกับก...</td>\n",
       "      <td>&lt;a class='lawlinkfile' target='_blank' href='h...</td>\n",
       "      <td>https://krisdika.ocs.go.th/librarian/get?sysid...</td>\n",
       "      <td>NaN</td>\n",
       "      <td>https://krisdika.ocs.go.th/librarian/get?sysid...</td>\n",
       "      <td>https://krisdika.ocs.go.th/librarian/get?sysid...</td>\n",
       "      <td>https://krisdika.ocs.go.th/librarian/get?sysid...</td>\n",
       "      <td>True</td>\n",
       "    </tr>\n",
       "  </tbody>\n",
       "</table>\n",
       "</div>"
      ],
      "text/plain": [
       "  main_id                                               name              law_id                                             law_nm                                           law_link                                                pdf  tif                                               html                                                doc                                             en_pdf  check_latest\n",
       "2     อ18  พระราชบัญญัติองค์กรจัดสรรคลื่นความถี่และกำกับก...  อ18-20-9998-UPDATE  พระราชบัญญัติองค์กรจัดสรรคลื่นความถี่และกำกับก...  <a class='lawlinkfile' target='_blank' href='h...  https://krisdika.ocs.go.th/librarian/get?sysid...  NaN  https://krisdika.ocs.go.th/librarian/get?sysid...  https://krisdika.ocs.go.th/librarian/get?sysid...  https://krisdika.ocs.go.th/librarian/get?sysid...          True"
      ]
     },
     "execution_count": 300,
     "metadata": {},
     "output_type": "execute_result"
    }
   ],
   "source": [
    "law_df[law_df['check_latest'] == True]"
   ]
  },
  {
   "cell_type": "code",
   "execution_count": 306,
   "id": "4ac9302f-0667-466c-8bfe-be16dd90a178",
   "metadata": {},
   "outputs": [
    {
     "name": "stdout",
     "output_type": "stream",
     "text": [
      "main_id\n",
      "name\n",
      "law_id\n",
      "law_nm\n",
      "law_link\n",
      "pdf\n",
      "tif\n",
      "html\n",
      "doc\n",
      "en_pdf\n",
      "check_latest\n"
     ]
    }
   ],
   "source": [
    "for col in law_df:"
   ]
  },
  {
   "cell_type": "code",
   "execution_count": null,
   "id": "1975654f-1dd8-4157-9bef-e5200cef1876",
   "metadata": {},
   "outputs": [],
   "source": []
  }
 ],
 "metadata": {
  "kernelspec": {
   "display_name": "Python 3 (ipykernel)",
   "language": "python",
   "name": "python3"
  },
  "language_info": {
   "codemirror_mode": {
    "name": "ipython",
    "version": 3
   },
   "file_extension": ".py",
   "mimetype": "text/x-python",
   "name": "python",
   "nbconvert_exporter": "python",
   "pygments_lexer": "ipython3",
   "version": "3.11.9"
  }
 },
 "nbformat": 4,
 "nbformat_minor": 5
}
