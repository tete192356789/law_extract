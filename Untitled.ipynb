{
 "cells": [
  {
   "cell_type": "code",
   "execution_count": 1,
   "id": "7572f1e2-4e78-44df-8e2c-64309da96644",
   "metadata": {},
   "outputs": [],
   "source": [
    "import requests\n",
    "import json\n",
    "import pandas as pd\n",
    "from jsonpath_ng import jsonpath,parse"
   ]
  },
  {
   "cell_type": "code",
   "execution_count": 2,
   "id": "2b5f7660-8adb-47f6-812d-48ec3f269c28",
   "metadata": {},
   "outputs": [
    {
     "name": "stderr",
     "output_type": "stream",
     "text": [
      "/home/tete/.pyenv/versions/3.11.9/lib/python3.11/site-packages/urllib3/connectionpool.py:1103: InsecureRequestWarning: Unverified HTTPS request is being made to host 'krisdika.ocs.go.th'. Adding certificate verification is strongly advised. See: https://urllib3.readthedocs.io/en/latest/advanced-usage.html#tls-warnings\n",
      "  warnings.warn(\n"
     ]
    }
   ],
   "source": [
    "url = \"https://krisdika.ocs.go.th/th/web/guest/law?p_p_id=LawPortlet_INSTANCE_aAN7C2U5hENi&p_p_lifecycle=2&p_p_state=normal&p_p_mode=view&p_p_cacheability=cacheLevelPage&p_p_lifecycle=1&_LawPortlet_INSTANCE_aAN7C2U5hENi_character=อ&_LawPortlet_INSTANCE_aAN7C2U5hENi_javax.portlet.action=selectCharacterMenu&_LawPortlet_INSTANCE_aAN7C2U5hENi_groupOfAct=byCharacter&_LawPortlet_INSTANCE_aAN7C2U5hENi_lawTypeId=2\"\n",
    "response = requests.request(\"GET\",url, verify=False)"
   ]
  },
  {
   "cell_type": "code",
   "execution_count": 3,
   "id": "22a07d38-fd7e-4841-b994-0e3ea4281c79",
   "metadata": {},
   "outputs": [],
   "source": [
    "text = json.loads(response.text)"
   ]
  },
  {
   "cell_type": "code",
   "execution_count": 88,
   "id": "bc831b1e-8f61-4045-9c79-53df57de7496",
   "metadata": {},
   "outputs": [],
   "source": [
    "with open('อ.json', 'w') as f:\n",
    "    json.dump(text, f)"
   ]
  },
  {
   "cell_type": "code",
   "execution_count": 78,
   "id": "3537c1e7-318e-4683-a245-648548a1ea0c",
   "metadata": {
    "scrolled": true
   },
   "outputs": [
    {
     "ename": "TypeError",
     "evalue": "list indices must be integers or slices, not str",
     "output_type": "error",
     "traceback": [
      "\u001b[0;31m---------------------------------------------------------------------------\u001b[0m",
      "\u001b[0;31mTypeError\u001b[0m                                 Traceback (most recent call last)",
      "Cell \u001b[0;32mIn[78], line 2\u001b[0m\n\u001b[1;32m      1\u001b[0m data \u001b[38;5;241m=\u001b[39m text[\u001b[38;5;124m'\u001b[39m\u001b[38;5;124mrows\u001b[39m\u001b[38;5;124m'\u001b[39m]\n\u001b[0;32m----> 2\u001b[0m pd\u001b[38;5;241m.\u001b[39mjson_normalize(\u001b[43mtext\u001b[49m\u001b[43m[\u001b[49m\u001b[38;5;124;43m'\u001b[39;49m\u001b[38;5;124;43mrows\u001b[39;49m\u001b[38;5;124;43m'\u001b[39;49m\u001b[43m]\u001b[49m\u001b[43m[\u001b[49m\u001b[43m:\u001b[49m\u001b[43m]\u001b[49m\u001b[43m[\u001b[49m\u001b[38;5;124;43m'\u001b[39;49m\u001b[38;5;124;43mrows\u001b[39;49m\u001b[38;5;124;43m'\u001b[39;49m\u001b[43m]\u001b[49m, record_path\u001b[38;5;241m=\u001b[39m\u001b[38;5;124m'\u001b[39m\u001b[38;5;124mrows\u001b[39m\u001b[38;5;124m'\u001b[39m, max_level\u001b[38;5;241m=\u001b[39m\u001b[38;5;241m1\u001b[39m)\n",
      "\u001b[0;31mTypeError\u001b[0m: list indices must be integers or slices, not str"
     ]
    }
   ],
   "source": [
    "data = text['rows']\n",
    "pd.json_normalize(text['rows'].i, record_path='rows', max_level=1)"
   ]
  },
  {
   "cell_type": "code",
   "execution_count": 83,
   "id": "46f19ec3-2f24-444f-9b64-2d28a424f267",
   "metadata": {},
   "outputs": [
    {
     "ename": "TypeError",
     "evalue": "list indices must be integers or slices, not str",
     "output_type": "error",
     "traceback": [
      "\u001b[0;31m---------------------------------------------------------------------------\u001b[0m",
      "\u001b[0;31mTypeError\u001b[0m                                 Traceback (most recent call last)",
      "Cell \u001b[0;32mIn[83], line 8\u001b[0m\n\u001b[1;32m      4\u001b[0m normalized_data \u001b[38;5;241m=\u001b[39m []\n\u001b[1;32m      6\u001b[0m \u001b[38;5;66;03m# Process main data\u001b[39;00m\n\u001b[1;32m      7\u001b[0m main_data \u001b[38;5;241m=\u001b[39m {\n\u001b[0;32m----> 8\u001b[0m     \u001b[38;5;124m'\u001b[39m\u001b[38;5;124mmain_id\u001b[39m\u001b[38;5;124m'\u001b[39m: \u001b[43mdata\u001b[49m\u001b[43m[\u001b[49m\u001b[38;5;124;43m'\u001b[39;49m\u001b[38;5;124;43mid\u001b[39;49m\u001b[38;5;124;43m'\u001b[39;49m\u001b[43m]\u001b[49m,\n\u001b[1;32m      9\u001b[0m     \u001b[38;5;124m'\u001b[39m\u001b[38;5;124mmain_value\u001b[39m\u001b[38;5;124m'\u001b[39m: data[\u001b[38;5;124m'\u001b[39m\u001b[38;5;124mdata\u001b[39m\u001b[38;5;124m'\u001b[39m][\u001b[38;5;241m0\u001b[39m][\u001b[38;5;124m'\u001b[39m\u001b[38;5;124mvalue\u001b[39m\u001b[38;5;124m'\u001b[39m],\n\u001b[1;32m     10\u001b[0m     \u001b[38;5;124m'\u001b[39m\u001b[38;5;124mmain_image\u001b[39m\u001b[38;5;124m'\u001b[39m: data[\u001b[38;5;124m'\u001b[39m\u001b[38;5;124mdata\u001b[39m\u001b[38;5;124m'\u001b[39m][\u001b[38;5;241m0\u001b[39m][\u001b[38;5;124m'\u001b[39m\u001b[38;5;124mimage\u001b[39m\u001b[38;5;124m'\u001b[39m]\n\u001b[1;32m     11\u001b[0m }\n\u001b[1;32m     13\u001b[0m \u001b[38;5;66;03m# Process each row\u001b[39;00m\n\u001b[1;32m     14\u001b[0m \u001b[38;5;28;01mfor\u001b[39;00m row \u001b[38;5;129;01min\u001b[39;00m data:\n",
      "\u001b[0;31mTypeError\u001b[0m: list indices must be integers or slices, not str"
     ]
    }
   ],
   "source": [
    "data = text['rows']\n",
    "\n",
    "# Create a list to store the normalized data\n",
    "normalized_data = []\n",
    "\n",
    "# Process main data\n",
    "main_data = {\n",
    "    'main_id': data['id'],\n",
    "    'main_value': data['data'][0]['value'],\n",
    "    'main_image': data['data'][0]['image']\n",
    "}\n",
    "\n",
    "# Process each row\n",
    "for row in data['rows']:\n",
    "    row_data = main_data.copy()  # Start with the main data\n",
    "    row_data.update({\n",
    "        'sub_id': row['id'],\n",
    "        'sub_value': row['data'][0]['value'],\n",
    "        'sub_image': row['data'][0]['image'],\n",
    "        'additional_data': row['data'][1] if len(row['data']) > 1 else None\n",
    "    })\n",
    "    normalized_data.append(row_data)\n",
    "\n",
    "# Create the DataFrame\n",
    "df = pd.DataFrame(normalized_data)\n",
    "\n",
    "# Display the DataFrame\n",
    "print(df)"
   ]
  },
  {
   "cell_type": "code",
   "execution_count": null,
   "id": "213559a1-9205-426b-903f-1ba8d1a48b8b",
   "metadata": {},
   "outputs": [],
   "source": []
  },
  {
   "cell_type": "code",
   "execution_count": null,
   "id": "7b231d55-c32b-41bb-a1ff-db103104ab34",
   "metadata": {},
   "outputs": [],
   "source": []
  },
  {
   "cell_type": "code",
   "execution_count": 32,
   "id": "40652b27-8920-4065-9b4c-1d40598c9006",
   "metadata": {},
   "outputs": [],
   "source": [
    "main_df = df[['id','rows']].copy()"
   ]
  },
  {
   "cell_type": "code",
   "execution_count": 33,
   "id": "0bf93723-6cac-409a-a09c-2915554787cc",
   "metadata": {},
   "outputs": [],
   "source": [
    "ex = df.explode('data')\n",
    "normal_df = pd.json_normalize(ex['data'])"
   ]
  },
  {
   "cell_type": "code",
   "execution_count": 34,
   "id": "e5e62a83-101c-4f9e-8129-ddb5d2b18a83",
   "metadata": {},
   "outputs": [
    {
     "data": {
      "text/html": [
       "<div>\n",
       "<style scoped>\n",
       "    .dataframe tbody tr th:only-of-type {\n",
       "        vertical-align: middle;\n",
       "    }\n",
       "\n",
       "    .dataframe tbody tr th {\n",
       "        vertical-align: top;\n",
       "    }\n",
       "\n",
       "    .dataframe thead th {\n",
       "        text-align: right;\n",
       "    }\n",
       "</style>\n",
       "<table border=\"1\" class=\"dataframe\">\n",
       "  <thead>\n",
       "    <tr style=\"text-align: right;\">\n",
       "      <th></th>\n",
       "      <th>value</th>\n",
       "      <th>image</th>\n",
       "    </tr>\n",
       "  </thead>\n",
       "  <tbody>\n",
       "    <tr>\n",
       "      <th>0</th>\n",
       "      <td>กฎอัยการศึก พ.ศ. 2457 (12 ฉบับ)</td>\n",
       "      <td>mainfolder.png</td>\n",
       "    </tr>\n",
       "    <tr>\n",
       "      <th>1</th>\n",
       "      <td>พระราชกำหนดกองทุนส่งเสริมการประกันภัยพิบัติ พ....</td>\n",
       "      <td>mainfolder.png</td>\n",
       "    </tr>\n",
       "    <tr>\n",
       "      <th>2</th>\n",
       "      <td>พระราชกำหนดการกู้ยืมเงินที่เป็นการฉ้อโกงประชาช...</td>\n",
       "      <td>mainfolder.png</td>\n",
       "    </tr>\n",
       "    <tr>\n",
       "      <th>3</th>\n",
       "      <td>พระราชกำหนดการนำคนต่างด้าวมาทำงานกับนายจ้างในป...</td>\n",
       "      <td>mainfolder.png</td>\n",
       "    </tr>\n",
       "    <tr>\n",
       "      <th>4</th>\n",
       "      <td>พระราชกำหนดการบริหารจัดการการทำงานของคนต่างด้า...</td>\n",
       "      <td>mainfolder.png</td>\n",
       "    </tr>\n",
       "  </tbody>\n",
       "</table>\n",
       "</div>"
      ],
      "text/plain": [
       "                                               value           image\n",
       "0                    กฎอัยการศึก พ.ศ. 2457 (12 ฉบับ)  mainfolder.png\n",
       "1  พระราชกำหนดกองทุนส่งเสริมการประกันภัยพิบัติ พ....  mainfolder.png\n",
       "2  พระราชกำหนดการกู้ยืมเงินที่เป็นการฉ้อโกงประชาช...  mainfolder.png\n",
       "3  พระราชกำหนดการนำคนต่างด้าวมาทำงานกับนายจ้างในป...  mainfolder.png\n",
       "4  พระราชกำหนดการบริหารจัดการการทำงานของคนต่างด้า...  mainfolder.png"
      ]
     },
     "execution_count": 34,
     "metadata": {},
     "output_type": "execute_result"
    }
   ],
   "source": [
    "normal_df.head()"
   ]
  },
  {
   "cell_type": "code",
   "execution_count": 35,
   "id": "aa92e3d8-98bb-4141-b6be-5e726b57c7e4",
   "metadata": {},
   "outputs": [],
   "source": [
    "merged = pd.concat([main_df,normal_df['value']],axis = 1)"
   ]
  },
  {
   "cell_type": "code",
   "execution_count": 36,
   "id": "cd7cd689-c780-4bde-8ea1-eea0c2c9ab0f",
   "metadata": {},
   "outputs": [
    {
     "data": {
      "text/html": [
       "<div>\n",
       "<style scoped>\n",
       "    .dataframe tbody tr th:only-of-type {\n",
       "        vertical-align: middle;\n",
       "    }\n",
       "\n",
       "    .dataframe tbody tr th {\n",
       "        vertical-align: top;\n",
       "    }\n",
       "\n",
       "    .dataframe thead th {\n",
       "        text-align: right;\n",
       "    }\n",
       "</style>\n",
       "<table border=\"1\" class=\"dataframe\">\n",
       "  <thead>\n",
       "    <tr style=\"text-align: right;\">\n",
       "      <th></th>\n",
       "      <th>id</th>\n",
       "      <th>rows</th>\n",
       "      <th>value</th>\n",
       "    </tr>\n",
       "  </thead>\n",
       "  <tbody>\n",
       "    <tr>\n",
       "      <th>0</th>\n",
       "      <td>ก03</td>\n",
       "      <td>[{'id': 'ก03-20-9999-UPDATE', 'data': [{'value...</td>\n",
       "      <td>กฎอัยการศึก พ.ศ. 2457 (12 ฉบับ)</td>\n",
       "    </tr>\n",
       "    <tr>\n",
       "      <th>1</th>\n",
       "      <td>ก135</td>\n",
       "      <td>[{'id': 'ก135-20-2555-A0001', 'data': [{'value...</td>\n",
       "      <td>พระราชกำหนดกองทุนส่งเสริมการประกันภัยพิบัติ พ....</td>\n",
       "    </tr>\n",
       "    <tr>\n",
       "      <th>2</th>\n",
       "      <td>ก68</td>\n",
       "      <td>[{'id': 'ก68-20-9999-UPDATE', 'data': [{'value...</td>\n",
       "      <td>พระราชกำหนดการกู้ยืมเงินที่เป็นการฉ้อโกงประชาช...</td>\n",
       "    </tr>\n",
       "    <tr>\n",
       "      <th>3</th>\n",
       "      <td>ก160</td>\n",
       "      <td>[{'id': 'ก1602B', 'data': [{'value': 'กฎกระทรว...</td>\n",
       "      <td>พระราชกำหนดการนำคนต่างด้าวมาทำงานกับนายจ้างในป...</td>\n",
       "    </tr>\n",
       "    <tr>\n",
       "      <th>4</th>\n",
       "      <td>ก165</td>\n",
       "      <td>[{'id': 'ก165-20-9999-UPDATE', 'data': [{'valu...</td>\n",
       "      <td>พระราชกำหนดการบริหารจัดการการทำงานของคนต่างด้า...</td>\n",
       "    </tr>\n",
       "  </tbody>\n",
       "</table>\n",
       "</div>"
      ],
      "text/plain": [
       "     id                                               rows  \\\n",
       "0   ก03  [{'id': 'ก03-20-9999-UPDATE', 'data': [{'value...   \n",
       "1  ก135  [{'id': 'ก135-20-2555-A0001', 'data': [{'value...   \n",
       "2   ก68  [{'id': 'ก68-20-9999-UPDATE', 'data': [{'value...   \n",
       "3  ก160  [{'id': 'ก1602B', 'data': [{'value': 'กฎกระทรว...   \n",
       "4  ก165  [{'id': 'ก165-20-9999-UPDATE', 'data': [{'valu...   \n",
       "\n",
       "                                               value  \n",
       "0                    กฎอัยการศึก พ.ศ. 2457 (12 ฉบับ)  \n",
       "1  พระราชกำหนดกองทุนส่งเสริมการประกันภัยพิบัติ พ....  \n",
       "2  พระราชกำหนดการกู้ยืมเงินที่เป็นการฉ้อโกงประชาช...  \n",
       "3  พระราชกำหนดการนำคนต่างด้าวมาทำงานกับนายจ้างในป...  \n",
       "4  พระราชกำหนดการบริหารจัดการการทำงานของคนต่างด้า...  "
      ]
     },
     "execution_count": 36,
     "metadata": {},
     "output_type": "execute_result"
    }
   ],
   "source": [
    "merged.head(5)"
   ]
  },
  {
   "cell_type": "code",
   "execution_count": 47,
   "id": "d1fa3a9e-5182-4412-9ee4-32160f362bd9",
   "metadata": {},
   "outputs": [],
   "source": [
    "ex1 = merged[merged.id == 'ก03'].explode('rows')\n",
    "ex2 = pd.json_normalize(ex1['rows'])"
   ]
  },
  {
   "cell_type": "code",
   "execution_count": 53,
   "id": "6f350973-fc89-4de5-a7b0-bdc3cbf1b9c4",
   "metadata": {},
   "outputs": [],
   "source": [
    "ex2['temp_id']  = ex2['id'].apply(lambda x: x[0:3])"
   ]
  },
  {
   "cell_type": "code",
   "execution_count": null,
   "id": "7f065b03-752a-40e6-8e4e-48f1750ea918",
   "metadata": {},
   "outputs": [],
   "source": []
  },
  {
   "cell_type": "code",
   "execution_count": null,
   "id": "66288a95-62e5-4362-9312-d3501b06a03e",
   "metadata": {},
   "outputs": [],
   "source": []
  }
 ],
 "metadata": {
  "kernelspec": {
   "display_name": "Python 3 (ipykernel)",
   "language": "python",
   "name": "python3"
  },
  "language_info": {
   "codemirror_mode": {
    "name": "ipython",
    "version": 3
   },
   "file_extension": ".py",
   "mimetype": "text/x-python",
   "name": "python",
   "nbconvert_exporter": "python",
   "pygments_lexer": "ipython3",
   "version": "3.11.9"
  }
 },
 "nbformat": 4,
 "nbformat_minor": 5
}
