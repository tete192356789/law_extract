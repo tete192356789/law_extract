{
 "cells": [
  {
   "cell_type": "code",
   "execution_count": 6,
   "id": "0e591dd3-4271-4c3b-977f-948fe2224c56",
   "metadata": {},
   "outputs": [],
   "source": [
    "import requests\n",
    "import json\n",
    "import pandas as pd\n",
    "from jsonpath_ng import jsonpath,parse\n",
    "import re\n",
    "import html2text\n",
    "import os\n",
    "import requests\n",
    "from urllib.parse import urlparse\n",
    "\n",
    "pd.set_option('display.max_rows', 500)\n",
    "pd.set_option('display.max_columns', 500)\n",
    "pd.set_option('display.width', 1000)"
   ]
  },
  {
   "cell_type": "code",
   "execution_count": 7,
   "id": "9254d2a1-6506-4ac9-9431-2b2b365b96e5",
   "metadata": {},
   "outputs": [
    {
     "name": "stderr",
     "output_type": "stream",
     "text": [
      "/Library/Frameworks/Python.framework/Versions/3.12/lib/python3.12/site-packages/urllib3/connectionpool.py:1103: InsecureRequestWarning: Unverified HTTPS request is being made to host 'krisdika.ocs.go.th'. Adding certificate verification is strongly advised. See: https://urllib3.readthedocs.io/en/latest/advanced-usage.html#tls-warnings\n",
      "  warnings.warn(\n"
     ]
    }
   ],
   "source": [
    "url = \"https://krisdika.ocs.go.th/th/web/guest/law?p_p_id=LawPortlet_INSTANCE_aAN7C2U5hENi&p_p_lifecycle=2&p_p_state=normal&p_p_mode=view&p_p_cacheability=cacheLevelPage&p_p_lifecycle=1&_LawPortlet_INSTANCE_aAN7C2U5hENi_character=อ&_LawPortlet_INSTANCE_aAN7C2U5hENi_javax.portlet.action=selectCharacterMenu&_LawPortlet_INSTANCE_aAN7C2U5hENi_groupOfAct=byCharacter&_LawPortlet_INSTANCE_aAN7C2U5hENi_lawTypeId=2\"\n",
    "response = requests.request(\"GET\",url, verify=False)\n",
    "file_store = r\"\\\\wsl.localhost\\Ubuntu-20.04\\home\\tete\\lawpdf_scraping3\\files\"\n",
    "\n",
    "thai_consonants = [chr(i) for i in range(0x0E01, 0x0E2E + 1) if i not in [0x0E24, 0x0E26]]\n",
    "\n",
    "h = html2text.HTML2Text()\n",
    "h.ignore_links = True"
   ]
  },
  {
   "cell_type": "code",
   "execution_count": 8,
   "id": "86df24aa-ae8e-4a8d-a76f-f71f5c60c309",
   "metadata": {},
   "outputs": [],
   "source": [
    "json_data = json.loads(response.text)"
   ]
  },
  {
   "cell_type": "code",
   "execution_count": 9,
   "id": "c7d1eaa8-89bc-49fc-8245-852f0b494c47",
   "metadata": {},
   "outputs": [],
   "source": [
    "sel_json = json_data['rows']"
   ]
  },
  {
   "cell_type": "code",
   "execution_count": 39,
   "id": "8611a3fc-352a-4f27-9514-4a5575f3059c",
   "metadata": {},
   "outputs": [],
   "source": [
    "law_list = []\n",
    "ann_list = []\n",
    "for row in sel_json[4:5]:\n",
    "    if 'rows' in row.keys():\n",
    "        latest_update_found = False\n",
    "        law_count = 0\n",
    "        latest_law_data = None\n",
    "        \n",
    "        for law_data in row['rows']:\n",
    "            \n",
    "            #if no rows in keys then it's law record, if rows in keys it's folder not record\n",
    "            #check latest update law 'ฉบับ update ล่าสุด' in nm or 'UPDATE' in id\n",
    "            if 'rows' not in law_data.keys():\n",
    "                law_count += 1\n",
    "                if 'ฉบับ update ล่าสุด' in h.handle(law_data['data'][0]['value']) or 'UPDATE' in law_data['id']:\n",
    "                    latest_update_found = True\n",
    "                    latest_law_data = law_data\n",
    "                    break\n",
    "        #if no 'ฉบับ update ล่าสุด' in nm and 'UPDATE' in id and only1 record in main folder, it's mean that is latest law\n",
    "        if not latest_update_found and law_count == 1:\n",
    "            #get the first one law in main folder\n",
    "            latest_law_data = next(law_data for law_data in row['rows'] if 'rows' not in law_data.keys())\n",
    "\n",
    "        \n",
    "        for law_data in row['rows']:\n",
    "            #law filter\n",
    "            if 'rows' not in law_data.keys():\n",
    "                law_d = {}\n",
    "                law_d['main_id'] = row['id']\n",
    "                law_d['name'] = row['data'][0]['value']\n",
    "                law_d['law_id'] = law_data['id']\n",
    "                law_d['law_nm'] = h.handle(law_data['data'][0]['value'])\n",
    "                law_d['law_link'] = law_data['data'][1]\n",
    "                law_d['latest_update'] = (law_data == latest_law_data)\n",
    "                law_list.append(law_d)\n",
    "            else:\n",
    "            #folder\n",
    "                for ann_data in law_data['rows']:\n",
    "                    ann_d = {}\n",
    "                    ann_d['main_id'] = row['id']\n",
    "                    ann_d['name'] = row['data'][0]['value']\n",
    "                    ann_d['announce_id'] = law_data['id']\n",
    "                    ann_d['announce_type_nm'] = h.handle(law_data['data'][0]['value'])\n",
    "                    ann_d['announce_sub_id'] = ann_data['id']\n",
    "                    ann_d['announce_name'] = h.handle(ann_data['data'][0]['value'])\n",
    "                    ann_d['announce_link'] = ann_data['data'][1]\n",
    "                    ann_d['latest_update'] = False  # Announcements are not considered for latest update\n",
    "                    ann_list.append(ann_d)\n",
    "\n",
    "law_df = pd.DataFrame(law_list)\n",
    "ann_df = pd.DataFrame(ann_list)"
   ]
  },
  {
   "cell_type": "code",
   "execution_count": 30,
   "id": "56a5dd73-7ae3-4798-9c7f-06d690f5d82e",
   "metadata": {},
   "outputs": [
    {
     "data": {
      "text/html": [
       "<div>\n",
       "<style scoped>\n",
       "    .dataframe tbody tr th:only-of-type {\n",
       "        vertical-align: middle;\n",
       "    }\n",
       "\n",
       "    .dataframe tbody tr th {\n",
       "        vertical-align: top;\n",
       "    }\n",
       "\n",
       "    .dataframe thead th {\n",
       "        text-align: right;\n",
       "    }\n",
       "</style>\n",
       "<table border=\"1\" class=\"dataframe\">\n",
       "  <thead>\n",
       "    <tr style=\"text-align: right;\">\n",
       "      <th></th>\n",
       "      <th>main_id</th>\n",
       "      <th>name</th>\n",
       "      <th>law_id</th>\n",
       "      <th>law_nm</th>\n",
       "      <th>law_link</th>\n",
       "      <th>latest_update</th>\n",
       "    </tr>\n",
       "  </thead>\n",
       "  <tbody>\n",
       "    <tr>\n",
       "      <th>0</th>\n",
       "      <td>อ19</td>\n",
       "      <td>พระราชกำหนดโอนสินทรัพย์บางส่วนในบัญชีสำรองพิเศ...</td>\n",
       "      <td>อ19-20-2545-A0001</td>\n",
       "      <td>พระราชกำหนดโอนสินทรัพย์บางส่วนในบัญชีสำรองพิเศ...</td>\n",
       "      <td>&lt;a class='lawlinkfile' target='_blank' href='h...</td>\n",
       "      <td>True</td>\n",
       "    </tr>\n",
       "  </tbody>\n",
       "</table>\n",
       "</div>"
      ],
      "text/plain": [
       "  main_id                                               name             law_id                                             law_nm                                           law_link  latest_update\n",
       "0     อ19  พระราชกำหนดโอนสินทรัพย์บางส่วนในบัญชีสำรองพิเศ...  อ19-20-2545-A0001  พระราชกำหนดโอนสินทรัพย์บางส่วนในบัญชีสำรองพิเศ...  <a class='lawlinkfile' target='_blank' href='h...           True"
      ]
     },
     "execution_count": 30,
     "metadata": {},
     "output_type": "execute_result"
    }
   ],
   "source": [
    "law_df"
   ]
  },
  {
   "cell_type": "markdown",
   "id": "ee9549af-f9b2-4ebd-83ce-ca846610c4e9",
   "metadata": {},
   "source": [
    "1. TH pdf\n",
    "2. HTML\n",
    "3. TIF\n",
    "4. ENG pdf\n",
    "5. Doc (Manually - Substring from URL & append ext=doc)\n",
    "6. Download - new col as path (download pdf,htm,doc)"
   ]
  },
  {
   "cell_type": "code",
   "execution_count": 40,
   "id": "67c5624f-347c-4346-9237-d6f9b6a79ef9",
   "metadata": {},
   "outputs": [],
   "source": [
    "\n",
    "#Apply Function for extract law_link column in law_df.\n",
    "def extract_links(html):\n",
    "    links = {}\n",
    "    pattern = r\"href='(https://krisdika\\.ocs\\.go\\.th/librarian/get\\?sysid=\\d+&ext=(\\w+))'\"\n",
    "    matches = re.findall(pattern, html)\n",
    "    \n",
    "    for url, ext in matches:\n",
    "        if ext == 'pdf':\n",
    "            if 'icon_en' in html and url == matches[-1][0]:\n",
    "                links['en_pdf'] = url\n",
    "            else:\n",
    "                links['pdf'] = url\n",
    "        elif ext == 'htm':\n",
    "            links['html'] = url\n",
    "        elif ext == 'tif':\n",
    "            links['tif'] = url\n",
    "    base_url = matches[0][0].rsplit('ext=', 1)[0]\n",
    "    links['doc'] = base_url + 'ext=doc'\n",
    "       \n",
    "    \n",
    "    return links\n",
    "\n",
    "law_df =law_df.join(law_df['law_link'].apply(extract_links).apply(pd.Series))\n",
    "\n",
    "\n"
   ]
  },
  {
   "cell_type": "code",
   "execution_count": 171,
   "id": "66e7cd12-8293-4f86-b9c1-c1f525f00d0a",
   "metadata": {},
   "outputs": [],
   "source": []
  },
  {
   "cell_type": "code",
   "execution_count": 42,
   "id": "6dceb7a7-152e-4ecd-98e4-a2277ff255e5",
   "metadata": {},
   "outputs": [
    {
     "name": "stderr",
     "output_type": "stream",
     "text": [
      "/Library/Frameworks/Python.framework/Versions/3.12/lib/python3.12/site-packages/urllib3/connectionpool.py:1103: InsecureRequestWarning: Unverified HTTPS request is being made to host 'krisdika.ocs.go.th'. Adding certificate verification is strongly advised. See: https://urllib3.readthedocs.io/en/latest/advanced-usage.html#tls-warnings\n",
      "  warnings.warn(\n"
     ]
    },
    {
     "name": "stdout",
     "output_type": "stream",
     "text": [
      "Downloaded: /Users/nachanon/Documents/law_extract/files/325229.pdf\n",
      "Completely downloaded: /Users/nachanon/Documents/law_extract/files/325229.pdf\n"
     ]
    },
    {
     "name": "stderr",
     "output_type": "stream",
     "text": [
      "/Library/Frameworks/Python.framework/Versions/3.12/lib/python3.12/site-packages/urllib3/connectionpool.py:1103: InsecureRequestWarning: Unverified HTTPS request is being made to host 'krisdika.ocs.go.th'. Adding certificate verification is strongly advised. See: https://urllib3.readthedocs.io/en/latest/advanced-usage.html#tls-warnings\n",
      "  warnings.warn(\n"
     ]
    },
    {
     "name": "stdout",
     "output_type": "stream",
     "text": [
      "Downloaded: /Users/nachanon/Documents/law_extract/files/325229.htm\n",
      "Completely downloaded: /Users/nachanon/Documents/law_extract/files/325229.htm\n"
     ]
    },
    {
     "name": "stderr",
     "output_type": "stream",
     "text": [
      "/Library/Frameworks/Python.framework/Versions/3.12/lib/python3.12/site-packages/urllib3/connectionpool.py:1103: InsecureRequestWarning: Unverified HTTPS request is being made to host 'krisdika.ocs.go.th'. Adding certificate verification is strongly advised. See: https://urllib3.readthedocs.io/en/latest/advanced-usage.html#tls-warnings\n",
      "  warnings.warn(\n"
     ]
    },
    {
     "name": "stdout",
     "output_type": "stream",
     "text": [
      "Downloaded: /Users/nachanon/Documents/law_extract/files/325229.doc\n",
      "Completely downloaded: /Users/nachanon/Documents/law_extract/files/325229.doc\n"
     ]
    },
    {
     "name": "stderr",
     "output_type": "stream",
     "text": [
      "/Library/Frameworks/Python.framework/Versions/3.12/lib/python3.12/site-packages/urllib3/connectionpool.py:1103: InsecureRequestWarning: Unverified HTTPS request is being made to host 'krisdika.ocs.go.th'. Adding certificate verification is strongly advised. See: https://urllib3.readthedocs.io/en/latest/advanced-usage.html#tls-warnings\n",
      "  warnings.warn(\n"
     ]
    },
    {
     "name": "stdout",
     "output_type": "stream",
     "text": [
      "Downloaded: /Users/nachanon/Documents/law_extract/files/325229.tif\n",
      "Completely downloaded: /Users/nachanon/Documents/law_extract/files/325229.tif\n",
      "en_pdf not found in this row!!\n"
     ]
    }
   ],
   "source": [
    "#download for row\n",
    "def download_file(url):\n",
    "    folder = r'/Users/nachanon/Documents/law_extract/files'\n",
    "    os.makedirs(folder , exist_ok = True)\n",
    "    #check url is not nan\n",
    "    if pd.isna(url):\n",
    "        return None\n",
    "\n",
    "    #get path , filename \n",
    "    filename = str(url).split('=')[1].split('&')[0]\n",
    "    ext = url.split('=')[2]\n",
    "    full_name = filename + '.' + ext\n",
    "    file_path = os.path.join(folder, full_name)\n",
    "\n",
    "    #check url if there is a htm file should fill getfile in url to get content\n",
    "    if ext == 'htm' or ext == 'html':\n",
    "        if 'getfile' not in url:\n",
    "            url = url.replace('get','getfile')\n",
    "    response = requests.get(url , stream = True , verify = False )  \n",
    "    if response.status_code == 200:\n",
    "        with open(file_path, 'wb') as f:\n",
    "            for chunk in response.iter_content(chunk_size=8192):\n",
    "                f.write(chunk)\n",
    "        print(f\"Downloaded: {file_path}\")\n",
    "\n",
    "        if os.path.getsize(file_path) == 0:\n",
    "            print(f\"Warning: Downloaded file is empty: {file_path}\")\n",
    "            os.remove(file_path)\n",
    "            return None\n",
    "        \n",
    "        print(f\"Completely downloaded: {file_path}\")\n",
    "        return file_path\n",
    "    else:\n",
    "        print(f'Fail to downloaded: {file_path}')\n",
    "        return None\n",
    "#encap for all file extension cols\n",
    "def download_all_file(row):\n",
    "    ext_cols = ['pdf','html','doc','tif','en_pdf']\n",
    "    for ext in ext_cols:\n",
    "        if ext in row.index:\n",
    "            row[f'{ext}_path'] = download_file(row[ext])\n",
    "        else:\n",
    "            print(f'{ext} not found in this row!!')\n",
    "    return row\n",
    "law_df = law_df.apply(download_all_file, axis =1)"
   ]
  },
  {
   "cell_type": "code",
   "execution_count": 58,
   "id": "18cb3728-ea79-4086-8aa0-c03bbdd55b7b",
   "metadata": {
    "collapsed": true,
    "jupyter": {
     "outputs_hidden": true,
     "source_hidden": true
    }
   },
   "outputs": [
    {
     "name": "stderr",
     "output_type": "stream",
     "text": [
      "/Library/Frameworks/Python.framework/Versions/3.12/lib/python3.12/site-packages/urllib3/connectionpool.py:1103: InsecureRequestWarning: Unverified HTTPS request is being made to host 'krisdika.ocs.go.th'. Adding certificate verification is strongly advised. See: https://urllib3.readthedocs.io/en/latest/advanced-usage.html#tls-warnings\n",
      "  warnings.warn(\n"
     ]
    },
    {
     "name": "stdout",
     "output_type": "stream",
     "text": [
      "Successfully downloaded: /Users/nachanon/Documents/law_extract/files/325229.pdf\n",
      "Successfully downloaded: /Users/nachanon/Documents/law_extract/files/325229.htm\n"
     ]
    },
    {
     "name": "stderr",
     "output_type": "stream",
     "text": [
      "/Library/Frameworks/Python.framework/Versions/3.12/lib/python3.12/site-packages/urllib3/connectionpool.py:1103: InsecureRequestWarning: Unverified HTTPS request is being made to host 'krisdika.ocs.go.th'. Adding certificate verification is strongly advised. See: https://urllib3.readthedocs.io/en/latest/advanced-usage.html#tls-warnings\n",
      "  warnings.warn(\n",
      "/Library/Frameworks/Python.framework/Versions/3.12/lib/python3.12/site-packages/urllib3/connectionpool.py:1103: InsecureRequestWarning: Unverified HTTPS request is being made to host 'krisdika.ocs.go.th'. Adding certificate verification is strongly advised. See: https://urllib3.readthedocs.io/en/latest/advanced-usage.html#tls-warnings\n",
      "  warnings.warn(\n"
     ]
    },
    {
     "name": "stdout",
     "output_type": "stream",
     "text": [
      "Successfully downloaded: /Users/nachanon/Documents/law_extract/files/325229.doc\n"
     ]
    },
    {
     "name": "stderr",
     "output_type": "stream",
     "text": [
      "/Library/Frameworks/Python.framework/Versions/3.12/lib/python3.12/site-packages/urllib3/connectionpool.py:1103: InsecureRequestWarning: Unverified HTTPS request is being made to host 'krisdika.ocs.go.th'. Adding certificate verification is strongly advised. See: https://urllib3.readthedocs.io/en/latest/advanced-usage.html#tls-warnings\n",
      "  warnings.warn(\n"
     ]
    },
    {
     "name": "stdout",
     "output_type": "stream",
     "text": [
      "Successfully downloaded: /Users/nachanon/Documents/law_extract/files/325229.tif\n"
     ]
    },
    {
     "name": "stderr",
     "output_type": "stream",
     "text": [
      "/Library/Frameworks/Python.framework/Versions/3.12/lib/python3.12/site-packages/urllib3/connectionpool.py:1103: InsecureRequestWarning: Unverified HTTPS request is being made to host 'krisdika.ocs.go.th'. Adding certificate verification is strongly advised. See: https://urllib3.readthedocs.io/en/latest/advanced-usage.html#tls-warnings\n",
      "  warnings.warn(\n"
     ]
    },
    {
     "name": "stdout",
     "output_type": "stream",
     "text": [
      "Successfully downloaded: /Users/nachanon/Documents/law_extract/files/711259.pdf\n",
      "Successfully downloaded: /Users/nachanon/Documents/law_extract/files/711259.htm\n"
     ]
    },
    {
     "name": "stderr",
     "output_type": "stream",
     "text": [
      "/Library/Frameworks/Python.framework/Versions/3.12/lib/python3.12/site-packages/urllib3/connectionpool.py:1103: InsecureRequestWarning: Unverified HTTPS request is being made to host 'krisdika.ocs.go.th'. Adding certificate verification is strongly advised. See: https://urllib3.readthedocs.io/en/latest/advanced-usage.html#tls-warnings\n",
      "  warnings.warn(\n",
      "/Library/Frameworks/Python.framework/Versions/3.12/lib/python3.12/site-packages/urllib3/connectionpool.py:1103: InsecureRequestWarning: Unverified HTTPS request is being made to host 'krisdika.ocs.go.th'. Adding certificate verification is strongly advised. See: https://urllib3.readthedocs.io/en/latest/advanced-usage.html#tls-warnings\n",
      "  warnings.warn(\n"
     ]
    },
    {
     "name": "stdout",
     "output_type": "stream",
     "text": [
      "Successfully downloaded: /Users/nachanon/Documents/law_extract/files/711259.doc\n"
     ]
    },
    {
     "name": "stderr",
     "output_type": "stream",
     "text": [
      "/Library/Frameworks/Python.framework/Versions/3.12/lib/python3.12/site-packages/urllib3/connectionpool.py:1103: InsecureRequestWarning: Unverified HTTPS request is being made to host 'krisdika.ocs.go.th'. Adding certificate verification is strongly advised. See: https://urllib3.readthedocs.io/en/latest/advanced-usage.html#tls-warnings\n",
      "  warnings.warn(\n"
     ]
    },
    {
     "name": "stdout",
     "output_type": "stream",
     "text": [
      "Successfully downloaded: /Users/nachanon/Documents/law_extract/files/810061.pdf\n"
     ]
    },
    {
     "name": "stderr",
     "output_type": "stream",
     "text": [
      "/Library/Frameworks/Python.framework/Versions/3.12/lib/python3.12/site-packages/urllib3/connectionpool.py:1103: InsecureRequestWarning: Unverified HTTPS request is being made to host 'krisdika.ocs.go.th'. Adding certificate verification is strongly advised. See: https://urllib3.readthedocs.io/en/latest/advanced-usage.html#tls-warnings\n",
      "  warnings.warn(\n"
     ]
    },
    {
     "name": "stdout",
     "output_type": "stream",
     "text": [
      "Successfully downloaded: /Users/nachanon/Documents/law_extract/files/877294.doc\n"
     ]
    },
    {
     "name": "stderr",
     "output_type": "stream",
     "text": [
      "/Library/Frameworks/Python.framework/Versions/3.12/lib/python3.12/site-packages/urllib3/connectionpool.py:1103: InsecureRequestWarning: Unverified HTTPS request is being made to host 'krisdika.ocs.go.th'. Adding certificate verification is strongly advised. See: https://urllib3.readthedocs.io/en/latest/advanced-usage.html#tls-warnings\n",
      "  warnings.warn(\n"
     ]
    },
    {
     "name": "stdout",
     "output_type": "stream",
     "text": [
      "Successfully downloaded: /Users/nachanon/Documents/law_extract/files/877294.tif\n"
     ]
    },
    {
     "name": "stderr",
     "output_type": "stream",
     "text": [
      "/Library/Frameworks/Python.framework/Versions/3.12/lib/python3.12/site-packages/urllib3/connectionpool.py:1103: InsecureRequestWarning: Unverified HTTPS request is being made to host 'krisdika.ocs.go.th'. Adding certificate verification is strongly advised. See: https://urllib3.readthedocs.io/en/latest/advanced-usage.html#tls-warnings\n",
      "  warnings.warn(\n"
     ]
    },
    {
     "name": "stdout",
     "output_type": "stream",
     "text": [
      "Successfully downloaded: /Users/nachanon/Documents/law_extract/files/831143.pdf\n",
      "Successfully downloaded: /Users/nachanon/Documents/law_extract/files/831143.htm\n"
     ]
    },
    {
     "name": "stderr",
     "output_type": "stream",
     "text": [
      "/Library/Frameworks/Python.framework/Versions/3.12/lib/python3.12/site-packages/urllib3/connectionpool.py:1103: InsecureRequestWarning: Unverified HTTPS request is being made to host 'krisdika.ocs.go.th'. Adding certificate verification is strongly advised. See: https://urllib3.readthedocs.io/en/latest/advanced-usage.html#tls-warnings\n",
      "  warnings.warn(\n",
      "/Library/Frameworks/Python.framework/Versions/3.12/lib/python3.12/site-packages/urllib3/connectionpool.py:1103: InsecureRequestWarning: Unverified HTTPS request is being made to host 'krisdika.ocs.go.th'. Adding certificate verification is strongly advised. See: https://urllib3.readthedocs.io/en/latest/advanced-usage.html#tls-warnings\n",
      "  warnings.warn(\n"
     ]
    },
    {
     "name": "stdout",
     "output_type": "stream",
     "text": [
      "Successfully downloaded: /Users/nachanon/Documents/law_extract/files/831143.doc\n"
     ]
    },
    {
     "name": "stderr",
     "output_type": "stream",
     "text": [
      "/Library/Frameworks/Python.framework/Versions/3.12/lib/python3.12/site-packages/urllib3/connectionpool.py:1103: InsecureRequestWarning: Unverified HTTPS request is being made to host 'krisdika.ocs.go.th'. Adding certificate verification is strongly advised. See: https://urllib3.readthedocs.io/en/latest/advanced-usage.html#tls-warnings\n",
      "  warnings.warn(\n"
     ]
    },
    {
     "name": "stdout",
     "output_type": "stream",
     "text": [
      "Successfully downloaded: /Users/nachanon/Documents/law_extract/files/831143.tif\n"
     ]
    },
    {
     "name": "stderr",
     "output_type": "stream",
     "text": [
      "/Library/Frameworks/Python.framework/Versions/3.12/lib/python3.12/site-packages/urllib3/connectionpool.py:1103: InsecureRequestWarning: Unverified HTTPS request is being made to host 'krisdika.ocs.go.th'. Adding certificate verification is strongly advised. See: https://urllib3.readthedocs.io/en/latest/advanced-usage.html#tls-warnings\n",
      "  warnings.warn(\n"
     ]
    },
    {
     "name": "stdout",
     "output_type": "stream",
     "text": [
      "Successfully downloaded: /Users/nachanon/Documents/law_extract/files/832401.pdf\n"
     ]
    },
    {
     "name": "stderr",
     "output_type": "stream",
     "text": [
      "/Library/Frameworks/Python.framework/Versions/3.12/lib/python3.12/site-packages/urllib3/connectionpool.py:1103: InsecureRequestWarning: Unverified HTTPS request is being made to host 'krisdika.ocs.go.th'. Adding certificate verification is strongly advised. See: https://urllib3.readthedocs.io/en/latest/advanced-usage.html#tls-warnings\n",
      "  warnings.warn(\n",
      "/Library/Frameworks/Python.framework/Versions/3.12/lib/python3.12/site-packages/urllib3/connectionpool.py:1103: InsecureRequestWarning: Unverified HTTPS request is being made to host 'krisdika.ocs.go.th'. Adding certificate verification is strongly advised. See: https://urllib3.readthedocs.io/en/latest/advanced-usage.html#tls-warnings\n",
      "  warnings.warn(\n"
     ]
    },
    {
     "name": "stdout",
     "output_type": "stream",
     "text": [
      "Successfully downloaded: /Users/nachanon/Documents/law_extract/files/832401.htm\n",
      "Successfully downloaded: /Users/nachanon/Documents/law_extract/files/832401.doc\n"
     ]
    },
    {
     "name": "stderr",
     "output_type": "stream",
     "text": [
      "/Library/Frameworks/Python.framework/Versions/3.12/lib/python3.12/site-packages/urllib3/connectionpool.py:1103: InsecureRequestWarning: Unverified HTTPS request is being made to host 'krisdika.ocs.go.th'. Adding certificate verification is strongly advised. See: https://urllib3.readthedocs.io/en/latest/advanced-usage.html#tls-warnings\n",
      "  warnings.warn(\n"
     ]
    },
    {
     "name": "stdout",
     "output_type": "stream",
     "text": [
      "Successfully downloaded: /Users/nachanon/Documents/law_extract/files/779964.pdf\n",
      "Successfully downloaded: /Users/nachanon/Documents/law_extract/files/779964.htm\n"
     ]
    },
    {
     "name": "stderr",
     "output_type": "stream",
     "text": [
      "/Library/Frameworks/Python.framework/Versions/3.12/lib/python3.12/site-packages/urllib3/connectionpool.py:1103: InsecureRequestWarning: Unverified HTTPS request is being made to host 'krisdika.ocs.go.th'. Adding certificate verification is strongly advised. See: https://urllib3.readthedocs.io/en/latest/advanced-usage.html#tls-warnings\n",
      "  warnings.warn(\n",
      "/Library/Frameworks/Python.framework/Versions/3.12/lib/python3.12/site-packages/urllib3/connectionpool.py:1103: InsecureRequestWarning: Unverified HTTPS request is being made to host 'krisdika.ocs.go.th'. Adding certificate verification is strongly advised. See: https://urllib3.readthedocs.io/en/latest/advanced-usage.html#tls-warnings\n",
      "  warnings.warn(\n"
     ]
    },
    {
     "name": "stdout",
     "output_type": "stream",
     "text": [
      "Successfully downloaded: /Users/nachanon/Documents/law_extract/files/779964.doc\n"
     ]
    },
    {
     "name": "stderr",
     "output_type": "stream",
     "text": [
      "/Library/Frameworks/Python.framework/Versions/3.12/lib/python3.12/site-packages/urllib3/connectionpool.py:1103: InsecureRequestWarning: Unverified HTTPS request is being made to host 'krisdika.ocs.go.th'. Adding certificate verification is strongly advised. See: https://urllib3.readthedocs.io/en/latest/advanced-usage.html#tls-warnings\n",
      "  warnings.warn(\n"
     ]
    },
    {
     "name": "stdout",
     "output_type": "stream",
     "text": [
      "Successfully downloaded: /Users/nachanon/Documents/law_extract/files/779964.tif\n"
     ]
    },
    {
     "name": "stderr",
     "output_type": "stream",
     "text": [
      "/Library/Frameworks/Python.framework/Versions/3.12/lib/python3.12/site-packages/urllib3/connectionpool.py:1103: InsecureRequestWarning: Unverified HTTPS request is being made to host 'krisdika.ocs.go.th'. Adding certificate verification is strongly advised. See: https://urllib3.readthedocs.io/en/latest/advanced-usage.html#tls-warnings\n",
      "  warnings.warn(\n"
     ]
    },
    {
     "name": "stdout",
     "output_type": "stream",
     "text": [
      "Successfully downloaded: /Users/nachanon/Documents/law_extract/files/764174.pdf\n",
      "Successfully downloaded: /Users/nachanon/Documents/law_extract/files/764174.htm\n"
     ]
    },
    {
     "name": "stderr",
     "output_type": "stream",
     "text": [
      "/Library/Frameworks/Python.framework/Versions/3.12/lib/python3.12/site-packages/urllib3/connectionpool.py:1103: InsecureRequestWarning: Unverified HTTPS request is being made to host 'krisdika.ocs.go.th'. Adding certificate verification is strongly advised. See: https://urllib3.readthedocs.io/en/latest/advanced-usage.html#tls-warnings\n",
      "  warnings.warn(\n",
      "/Library/Frameworks/Python.framework/Versions/3.12/lib/python3.12/site-packages/urllib3/connectionpool.py:1103: InsecureRequestWarning: Unverified HTTPS request is being made to host 'krisdika.ocs.go.th'. Adding certificate verification is strongly advised. See: https://urllib3.readthedocs.io/en/latest/advanced-usage.html#tls-warnings\n",
      "  warnings.warn(\n"
     ]
    },
    {
     "name": "stdout",
     "output_type": "stream",
     "text": [
      "Successfully downloaded: /Users/nachanon/Documents/law_extract/files/764174.doc\n"
     ]
    },
    {
     "name": "stderr",
     "output_type": "stream",
     "text": [
      "/Library/Frameworks/Python.framework/Versions/3.12/lib/python3.12/site-packages/urllib3/connectionpool.py:1103: InsecureRequestWarning: Unverified HTTPS request is being made to host 'krisdika.ocs.go.th'. Adding certificate verification is strongly advised. See: https://urllib3.readthedocs.io/en/latest/advanced-usage.html#tls-warnings\n",
      "  warnings.warn(\n"
     ]
    },
    {
     "name": "stdout",
     "output_type": "stream",
     "text": [
      "Successfully downloaded: /Users/nachanon/Documents/law_extract/files/764174.tif\n"
     ]
    },
    {
     "name": "stderr",
     "output_type": "stream",
     "text": [
      "/Library/Frameworks/Python.framework/Versions/3.12/lib/python3.12/site-packages/urllib3/connectionpool.py:1103: InsecureRequestWarning: Unverified HTTPS request is being made to host 'krisdika.ocs.go.th'. Adding certificate verification is strongly advised. See: https://urllib3.readthedocs.io/en/latest/advanced-usage.html#tls-warnings\n",
      "  warnings.warn(\n"
     ]
    },
    {
     "name": "stdout",
     "output_type": "stream",
     "text": [
      "Successfully downloaded: /Users/nachanon/Documents/law_extract/files/764170.pdf\n",
      "Successfully downloaded: /Users/nachanon/Documents/law_extract/files/764170.htm\n"
     ]
    },
    {
     "name": "stderr",
     "output_type": "stream",
     "text": [
      "/Library/Frameworks/Python.framework/Versions/3.12/lib/python3.12/site-packages/urllib3/connectionpool.py:1103: InsecureRequestWarning: Unverified HTTPS request is being made to host 'krisdika.ocs.go.th'. Adding certificate verification is strongly advised. See: https://urllib3.readthedocs.io/en/latest/advanced-usage.html#tls-warnings\n",
      "  warnings.warn(\n",
      "/Library/Frameworks/Python.framework/Versions/3.12/lib/python3.12/site-packages/urllib3/connectionpool.py:1103: InsecureRequestWarning: Unverified HTTPS request is being made to host 'krisdika.ocs.go.th'. Adding certificate verification is strongly advised. See: https://urllib3.readthedocs.io/en/latest/advanced-usage.html#tls-warnings\n",
      "  warnings.warn(\n"
     ]
    },
    {
     "name": "stdout",
     "output_type": "stream",
     "text": [
      "Successfully downloaded: /Users/nachanon/Documents/law_extract/files/764170.doc\n"
     ]
    },
    {
     "name": "stderr",
     "output_type": "stream",
     "text": [
      "/Library/Frameworks/Python.framework/Versions/3.12/lib/python3.12/site-packages/urllib3/connectionpool.py:1103: InsecureRequestWarning: Unverified HTTPS request is being made to host 'krisdika.ocs.go.th'. Adding certificate verification is strongly advised. See: https://urllib3.readthedocs.io/en/latest/advanced-usage.html#tls-warnings\n",
      "  warnings.warn(\n"
     ]
    },
    {
     "name": "stdout",
     "output_type": "stream",
     "text": [
      "Successfully downloaded: /Users/nachanon/Documents/law_extract/files/764170.tif\n"
     ]
    },
    {
     "name": "stderr",
     "output_type": "stream",
     "text": [
      "/Library/Frameworks/Python.framework/Versions/3.12/lib/python3.12/site-packages/urllib3/connectionpool.py:1103: InsecureRequestWarning: Unverified HTTPS request is being made to host 'krisdika.ocs.go.th'. Adding certificate verification is strongly advised. See: https://urllib3.readthedocs.io/en/latest/advanced-usage.html#tls-warnings\n",
      "  warnings.warn(\n"
     ]
    },
    {
     "name": "stdout",
     "output_type": "stream",
     "text": [
      "Successfully downloaded: /Users/nachanon/Documents/law_extract/files/780466.pdf\n",
      "Successfully downloaded: /Users/nachanon/Documents/law_extract/files/780466.htm\n"
     ]
    },
    {
     "name": "stderr",
     "output_type": "stream",
     "text": [
      "/Library/Frameworks/Python.framework/Versions/3.12/lib/python3.12/site-packages/urllib3/connectionpool.py:1103: InsecureRequestWarning: Unverified HTTPS request is being made to host 'krisdika.ocs.go.th'. Adding certificate verification is strongly advised. See: https://urllib3.readthedocs.io/en/latest/advanced-usage.html#tls-warnings\n",
      "  warnings.warn(\n",
      "/Library/Frameworks/Python.framework/Versions/3.12/lib/python3.12/site-packages/urllib3/connectionpool.py:1103: InsecureRequestWarning: Unverified HTTPS request is being made to host 'krisdika.ocs.go.th'. Adding certificate verification is strongly advised. See: https://urllib3.readthedocs.io/en/latest/advanced-usage.html#tls-warnings\n",
      "  warnings.warn(\n"
     ]
    },
    {
     "name": "stdout",
     "output_type": "stream",
     "text": [
      "Successfully downloaded: /Users/nachanon/Documents/law_extract/files/780466.doc\n"
     ]
    },
    {
     "name": "stderr",
     "output_type": "stream",
     "text": [
      "/Library/Frameworks/Python.framework/Versions/3.12/lib/python3.12/site-packages/urllib3/connectionpool.py:1103: InsecureRequestWarning: Unverified HTTPS request is being made to host 'krisdika.ocs.go.th'. Adding certificate verification is strongly advised. See: https://urllib3.readthedocs.io/en/latest/advanced-usage.html#tls-warnings\n",
      "  warnings.warn(\n"
     ]
    },
    {
     "name": "stdout",
     "output_type": "stream",
     "text": [
      "Successfully downloaded: /Users/nachanon/Documents/law_extract/files/710005.pdf\n",
      "Successfully downloaded: /Users/nachanon/Documents/law_extract/files/710005.htm\n"
     ]
    },
    {
     "name": "stderr",
     "output_type": "stream",
     "text": [
      "/Library/Frameworks/Python.framework/Versions/3.12/lib/python3.12/site-packages/urllib3/connectionpool.py:1103: InsecureRequestWarning: Unverified HTTPS request is being made to host 'krisdika.ocs.go.th'. Adding certificate verification is strongly advised. See: https://urllib3.readthedocs.io/en/latest/advanced-usage.html#tls-warnings\n",
      "  warnings.warn(\n",
      "/Library/Frameworks/Python.framework/Versions/3.12/lib/python3.12/site-packages/urllib3/connectionpool.py:1103: InsecureRequestWarning: Unverified HTTPS request is being made to host 'krisdika.ocs.go.th'. Adding certificate verification is strongly advised. See: https://urllib3.readthedocs.io/en/latest/advanced-usage.html#tls-warnings\n",
      "  warnings.warn(\n"
     ]
    },
    {
     "name": "stdout",
     "output_type": "stream",
     "text": [
      "Successfully downloaded: /Users/nachanon/Documents/law_extract/files/710005.doc\n"
     ]
    },
    {
     "name": "stderr",
     "output_type": "stream",
     "text": [
      "/Library/Frameworks/Python.framework/Versions/3.12/lib/python3.12/site-packages/urllib3/connectionpool.py:1103: InsecureRequestWarning: Unverified HTTPS request is being made to host 'krisdika.ocs.go.th'. Adding certificate verification is strongly advised. See: https://urllib3.readthedocs.io/en/latest/advanced-usage.html#tls-warnings\n",
      "  warnings.warn(\n"
     ]
    },
    {
     "name": "stdout",
     "output_type": "stream",
     "text": [
      "Successfully downloaded: /Users/nachanon/Documents/law_extract/files/710005.tif\n"
     ]
    },
    {
     "name": "stderr",
     "output_type": "stream",
     "text": [
      "/Library/Frameworks/Python.framework/Versions/3.12/lib/python3.12/site-packages/urllib3/connectionpool.py:1103: InsecureRequestWarning: Unverified HTTPS request is being made to host 'krisdika.ocs.go.th'. Adding certificate verification is strongly advised. See: https://urllib3.readthedocs.io/en/latest/advanced-usage.html#tls-warnings\n",
      "  warnings.warn(\n"
     ]
    },
    {
     "name": "stdout",
     "output_type": "stream",
     "text": [
      "Successfully downloaded: /Users/nachanon/Documents/law_extract/files/641370.pdf\n",
      "Successfully downloaded: /Users/nachanon/Documents/law_extract/files/641370.htm\n"
     ]
    },
    {
     "name": "stderr",
     "output_type": "stream",
     "text": [
      "/Library/Frameworks/Python.framework/Versions/3.12/lib/python3.12/site-packages/urllib3/connectionpool.py:1103: InsecureRequestWarning: Unverified HTTPS request is being made to host 'krisdika.ocs.go.th'. Adding certificate verification is strongly advised. See: https://urllib3.readthedocs.io/en/latest/advanced-usage.html#tls-warnings\n",
      "  warnings.warn(\n",
      "/Library/Frameworks/Python.framework/Versions/3.12/lib/python3.12/site-packages/urllib3/connectionpool.py:1103: InsecureRequestWarning: Unverified HTTPS request is being made to host 'krisdika.ocs.go.th'. Adding certificate verification is strongly advised. See: https://urllib3.readthedocs.io/en/latest/advanced-usage.html#tls-warnings\n",
      "  warnings.warn(\n"
     ]
    },
    {
     "name": "stdout",
     "output_type": "stream",
     "text": [
      "Successfully downloaded: /Users/nachanon/Documents/law_extract/files/641370.doc\n"
     ]
    },
    {
     "name": "stderr",
     "output_type": "stream",
     "text": [
      "/Library/Frameworks/Python.framework/Versions/3.12/lib/python3.12/site-packages/urllib3/connectionpool.py:1103: InsecureRequestWarning: Unverified HTTPS request is being made to host 'krisdika.ocs.go.th'. Adding certificate verification is strongly advised. See: https://urllib3.readthedocs.io/en/latest/advanced-usage.html#tls-warnings\n",
      "  warnings.warn(\n"
     ]
    },
    {
     "name": "stdout",
     "output_type": "stream",
     "text": [
      "Successfully downloaded: /Users/nachanon/Documents/law_extract/files/641370.tif\n"
     ]
    },
    {
     "name": "stderr",
     "output_type": "stream",
     "text": [
      "/Library/Frameworks/Python.framework/Versions/3.12/lib/python3.12/site-packages/urllib3/connectionpool.py:1103: InsecureRequestWarning: Unverified HTTPS request is being made to host 'krisdika.ocs.go.th'. Adding certificate verification is strongly advised. See: https://urllib3.readthedocs.io/en/latest/advanced-usage.html#tls-warnings\n",
      "  warnings.warn(\n"
     ]
    },
    {
     "name": "stdout",
     "output_type": "stream",
     "text": [
      "Successfully downloaded: /Users/nachanon/Documents/law_extract/files/810061.pdf\n"
     ]
    }
   ],
   "source": [
    "import requests\n",
    "import os\n",
    "import pandas as pd\n",
    "from urllib.parse import urlparse\n",
    "import mimetypes\n",
    "\n",
    "def download_file(url):\n",
    "    if pd.isna(url):\n",
    "        return None\n",
    "\n",
    "    folder = r'/Users/nachanon/Documents/law_extract/files'\n",
    "    os.makedirs(folder , exist_ok = True)\n",
    "    if pd.isna(url):\n",
    "        return None\n",
    "    ext = '.' + url.split('=')[2]\n",
    "    \n",
    "    \n",
    "    try:\n",
    "        response = requests.get(url, stream=True , verify= False)\n",
    "        response.raise_for_status()  \n",
    "        \n",
    "        content_type = response.headers.get('Content-Type', '').lower()\n",
    "        content_disposition = response.headers.get('Content-Disposition')\n",
    "      \n",
    "        if content_disposition:\n",
    "            filename = content_disposition.split('filename=')[-1].strip('\"')\n",
    "        else:\n",
    "            filename = str(url).split('=')[1].split('&')[0]\n",
    "            \n",
    "        if not filename.lower().endswith(ext):\n",
    "            filename += ext\n",
    "        \n",
    "        filepath = os.path.join(folder, filename)\n",
    "        \n",
    "        with open(filepath, 'wb') as f:\n",
    "            for chunk in response.iter_content(chunk_size=8192):\n",
    "                if chunk:\n",
    "                    f.write(chunk)\n",
    "        \n",
    "        if os.path.getsize(filepath) == 0:\n",
    "            print(f\"Warning: Downloaded file is empty: {filepath}\")\n",
    "            os.remove(filepath)\n",
    "            return None\n",
    "        \n",
    "        print(f\"Successfully downloaded: {filepath}\")\n",
    "        return filepath\n",
    "    \n",
    "    except requests.RequestException as e:\n",
    "        print(f\"Error downloading {url}: {e}\")\n",
    "        return None\n",
    "\n",
    "def download_all_file(row):\n",
    "    ext_cols = ['pdf','html','doc','tif','en_pdf']\n",
    "    for ext in ext_cols:\n",
    "        if ext in row.index:\n",
    "            row[f'{ext}_path'] = download_file(row[ext])\n",
    "        else:\n",
    "            print(f'{ext} not found in this row!!')\n",
    "    return row\n",
    "\n",
    "law_df = law_df.apply(download_all_file, axis =1)"
   ]
  },
  {
   "cell_type": "code",
   "execution_count": null,
   "id": "911265af-aee3-4da8-ad66-073ef39aa321",
   "metadata": {},
   "outputs": [],
   "source": []
  }
 ],
 "metadata": {
  "kernelspec": {
   "display_name": "Python 3 (ipykernel)",
   "language": "python",
   "name": "python3"
  },
  "language_info": {
   "codemirror_mode": {
    "name": "ipython",
    "version": 3
   },
   "file_extension": ".py",
   "mimetype": "text/x-python",
   "name": "python",
   "nbconvert_exporter": "python",
   "pygments_lexer": "ipython3",
   "version": "3.12.3"
  }
 },
 "nbformat": 4,
 "nbformat_minor": 5
}
